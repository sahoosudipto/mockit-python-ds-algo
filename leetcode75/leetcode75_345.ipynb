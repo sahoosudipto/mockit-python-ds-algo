{
  "nbformat": 4,
  "nbformat_minor": 0,
  "metadata": {
    "colab": {
      "provenance": [],
      "authorship_tag": "ABX9TyOMGsNPtazbLoNcoZ80EPwK",
      "include_colab_link": true
    },
    "kernelspec": {
      "name": "python3",
      "display_name": "Python 3"
    },
    "language_info": {
      "name": "python"
    }
  },
  "cells": [
    {
      "cell_type": "markdown",
      "metadata": {
        "id": "view-in-github",
        "colab_type": "text"
      },
      "source": [
        "<a href=\"https://colab.research.google.com/github/sahoosudipto/mockit-python-ds-algo/blob/main/leetcode75/leetcode75_345.ipynb\" target=\"_parent\"><img src=\"https://colab.research.google.com/assets/colab-badge.svg\" alt=\"Open In Colab\"/></a>"
      ]
    },
    {
      "cell_type": "markdown",
      "source": [
        "#leetcode-75\n",
        "[https://leetcode.com/studyplan/leetcode-75/](https://leetcode.com/studyplan/leetcode-75/)"
      ],
      "metadata": {
        "id": "3BQHTC8L7v8e"
      }
    },
    {
      "cell_type": "markdown",
      "source": [
        "## 345. Reverse Vowels of a String\n",
        "Given a string s, reverse only all the vowels in the string and return it.\n",
        "\n",
        "The vowels are 'a', 'e', 'i', 'o', and 'u', and they can appear in both lower and upper cases, more than once.\n",
        "\n",
        "\n",
        "\n",
        "Example 1:\n",
        "\n",
        "Input: s = \"hello\"\n",
        "Output: \"holle\"\n",
        "Example 2:\n",
        "\n",
        "Input: s = \"leetcode\"\n",
        "Output: \"leotcede\"\n",
        "\n",
        "\n",
        "Constraints:\n",
        "\n",
        "1 <= s.length <= 3 * 105\n",
        "s consist of printable ASCII characters."
      ],
      "metadata": {
        "id": "NUZa1r4a8VXE"
      }
    },
    {
      "cell_type": "code",
      "source": [
        "def reverse_vowels(s: str) ->str:\n",
        "    input = list(s)\n",
        "    vowel_indices = [i for i, char in enumerate(input) if char.lower() in \"aeiou\"]\n",
        "    mid_point = len(vowel_indices) // 2\n",
        "    for i in range(mid_point):\n",
        "        input[vowel_indices[i]], input[vowel_indices[-(i + 1)]] = input[vowel_indices[-(i + 1)]], input[vowel_indices[i]]\n",
        "    return ''.join(input)\n"
      ],
      "metadata": {
        "id": "lW4sfkEQ72GN"
      },
      "execution_count": 30,
      "outputs": []
    },
    {
      "cell_type": "code",
      "source": [
        "def reverse_vowels_02(s):\n",
        "    vowels = set(\"aeiouAEIOU\")  # Set for faster vowel checking\n",
        "    left, right = 0, len(s) - 1\n",
        "    chars = list(s)\n",
        "\n",
        "    while left < right:\n",
        "        while left < right and chars[left] not in vowels:\n",
        "            left += 1\n",
        "        while left < right and chars[right] not in vowels:\n",
        "            right -= 1\n",
        "\n",
        "        # Swap only if both left and right point to vowels\n",
        "        if left < right:\n",
        "            chars[left], chars[right] = chars[right], chars[left]\n",
        "            left += 1\n",
        "            right -= 1\n",
        "\n",
        "    return \"\".join(chars)  # Reconstruct string from modified list"
      ],
      "metadata": {
        "id": "QqLYLfSFj6cV"
      },
      "execution_count": 32,
      "outputs": []
    }
  ]
}