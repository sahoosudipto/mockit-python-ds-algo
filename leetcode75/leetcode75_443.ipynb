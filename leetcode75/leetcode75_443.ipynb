{
  "nbformat": 4,
  "nbformat_minor": 0,
  "metadata": {
    "colab": {
      "provenance": [],
      "authorship_tag": "ABX9TyNLv8rkeTnALlIPLl3JEBxz",
      "include_colab_link": true
    },
    "kernelspec": {
      "name": "python3",
      "display_name": "Python 3"
    },
    "language_info": {
      "name": "python"
    }
  },
  "cells": [
    {
      "cell_type": "markdown",
      "metadata": {
        "id": "view-in-github",
        "colab_type": "text"
      },
      "source": [
        "<a href=\"https://colab.research.google.com/github/sahoosudipto/mockit-python-ds-algo/blob/main/leetcode75/leetcode75_443.ipynb\" target=\"_parent\"><img src=\"https://colab.research.google.com/assets/colab-badge.svg\" alt=\"Open In Colab\"/></a>"
      ]
    },
    {
      "cell_type": "markdown",
      "source": [
        "Given an array of characters chars, compress it using the following algorithm:\n",
        "\n",
        "Begin with an empty string s. For each group of consecutive repeating characters in chars:\n",
        "\n",
        "If the group's length is 1, append the character to s.\n",
        "Otherwise, append the character followed by the group's length.\n",
        "The compressed string s should not be returned separately, but instead, be stored in the input character array chars. Note that group lengths that are 10 or longer will be split into multiple characters in chars.\n",
        "\n",
        "After you are done modifying the input array, return the new length of the array.\n",
        "\n",
        "You must write an algorithm that uses only constant extra space.\n",
        "\n",
        "\n",
        "\n",
        "Example 1:\n",
        "\n",
        "Input: chars = [\"a\",\"a\",\"b\",\"b\",\"c\",\"c\",\"c\"]\n",
        "Output: Return 6, and the first 6 characters of the input array should be: [\"a\",\"2\",\"b\",\"2\",\"c\",\"3\"]\n",
        "Explanation: The groups are \"aa\", \"bb\", and \"ccc\". This compresses to \"a2b2c3\".\n",
        "Example 2:\n",
        "\n",
        "Input: chars = [\"a\"]\n",
        "Output: Return 1, and the first character of the input array should be: [\"a\"]\n",
        "Explanation: The only group is \"a\", which remains uncompressed since it's a single character.\n",
        "Example 3:\n",
        "\n",
        "Input: chars = [\"a\",\"b\",\"b\",\"b\",\"b\",\"b\",\"b\",\"b\",\"b\",\"b\",\"b\",\"b\",\"b\"]\n",
        "Output: Return 4, and the first 4 characters of the input array should be: [\"a\",\"b\",\"1\",\"2\"].\n",
        "Explanation: The groups are \"a\" and \"bbbbbbbbbbbb\". This compresses to \"ab12\".\n",
        "\n",
        "\n",
        "Constraints:\n",
        "\n",
        "1 <= chars.length <= 2000\n",
        "chars[i] is a lowercase English letter, uppercase English letter, digit, or symbol."
      ],
      "metadata": {
        "id": "TK54Jv2pr3Jp"
      }
    },
    {
      "cell_type": "code",
      "source": [
        "def compress(a):\n",
        "    i, modified_i  = 0, 0\n",
        "\n",
        "    while i < len(a):\n",
        "        ch = a[i]\n",
        "        count = 1\n",
        "        while i < len(a) - 1 and a[i] == a[i+1]:\n",
        "            count += 1\n",
        "            i += 1\n",
        "        a[modified_i] = a[i]\n",
        "        modified_i += 1\n",
        "        if count > 1:\n",
        "            for c in str(count):\n",
        "                a[modified_i] = c\n",
        "                modified_i += 1\n",
        "        i += 1\n",
        "    return modified_i\n"
      ],
      "metadata": {
        "id": "IYW_W78BuTNa"
      },
      "execution_count": 1,
      "outputs": []
    },
    {
      "cell_type": "code",
      "source": [
        "\n",
        "def compress(chars):\n",
        "        i, res = 0, 0\n",
        "        while i < len(chars):\n",
        "            groupLength = 1;\n",
        "            while i + groupLength < len(chars) and chars[i + groupLength] == chars[i]:\n",
        "                groupLength += 1\n",
        "\n",
        "            chars[res] = chars[i]\n",
        "            res += 1\n",
        "            if groupLength > 1:\n",
        "                for c in str(groupLength):\n",
        "                    chars[res] = c\n",
        "                    res += 1\n",
        "            i += groupLength\n",
        "\n",
        "        return res\n"
      ],
      "metadata": {
        "id": "cdcqxjIC-KS8"
      },
      "execution_count": 26,
      "outputs": []
    },
    {
      "cell_type": "markdown",
      "source": [
        "***optimised solution with groupby***"
      ],
      "metadata": {
        "id": "vRWsfLHWIer0"
      }
    },
    {
      "cell_type": "code",
      "source": [
        "from itertools import groupby\n",
        "\n",
        "def compress(chars):\n",
        "    result = []\n",
        "\n",
        "    for char, group in groupby(chars):\n",
        "        count = sum(1 for _ in group)\n",
        "        result.append(char)\n",
        "\n",
        "        if count > 1:\n",
        "            result.extend(str(count))\n",
        "\n",
        "    chars[:len(result)] = result\n",
        "    return len(result)"
      ],
      "metadata": {
        "id": "_dPqaJ3yGM-r"
      },
      "execution_count": 38,
      "outputs": []
    },
    {
      "cell_type": "code",
      "source": [
        "\n",
        "import numpy as np\n",
        "\n",
        "# a = np.array(['a','a','a','b','b', 'b', 'd'])\n",
        "a = np.array(['a','a','a','b','b', 'b', 'a', 'a', 'b', 'b'])\n",
        "# a = np.array(list(\"abcdeabcdabcaba\"))\n",
        "compress(a)\n"
      ],
      "metadata": {
        "colab": {
          "base_uri": "https://localhost:8080/"
        },
        "id": "vs8hwt6ru3Ru",
        "outputId": "ca2c36cc-1e9c-404b-ba79-f21b80ecb460"
      },
      "execution_count": 39,
      "outputs": [
        {
          "output_type": "execute_result",
          "data": {
            "text/plain": [
              "8"
            ]
          },
          "metadata": {},
          "execution_count": 39
        }
      ]
    },
    {
      "cell_type": "code",
      "source": [
        "print(a)"
      ],
      "metadata": {
        "colab": {
          "base_uri": "https://localhost:8080/"
        },
        "id": "slr1OzfU0g4Q",
        "outputId": "14b02465-f45f-4e23-acfa-e4324e2532ac"
      },
      "execution_count": 40,
      "outputs": [
        {
          "output_type": "stream",
          "name": "stdout",
          "text": [
            "['a' '3' 'b' '3' 'a' '2' 'b' '2' 'b' 'b']\n"
          ]
        }
      ]
    }
  ]
}