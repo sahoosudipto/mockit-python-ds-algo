{
  "nbformat": 4,
  "nbformat_minor": 0,
  "metadata": {
    "colab": {
      "provenance": [],
      "authorship_tag": "ABX9TyOykDx+944zk5Ojy9nJvHcp",
      "include_colab_link": true
    },
    "kernelspec": {
      "name": "python3",
      "display_name": "Python 3"
    },
    "language_info": {
      "name": "python"
    }
  },
  "cells": [
    {
      "cell_type": "markdown",
      "metadata": {
        "id": "view-in-github",
        "colab_type": "text"
      },
      "source": [
        "<a href=\"https://colab.research.google.com/github/sahoosudipto/mockit-python-ds-algo/blob/main/leetcode75/leetcode75_283.ipynb\" target=\"_parent\"><img src=\"https://colab.research.google.com/assets/colab-badge.svg\" alt=\"Open In Colab\"/></a>"
      ]
    },
    {
      "cell_type": "markdown",
      "source": [
        "#leetcode75- problem 283: Move Zeroes\n",
        "\n",
        "Given an integer array nums, move all 0's to the end of it while maintaining the relative order of the non-zero elements.\n",
        "\n",
        "Note that you must do this in-place without making a copy of the array.\n",
        "\n",
        "\n",
        "\n",
        "Example 1:\n",
        "\n",
        "Input: nums = [0,1,0,3,12]\n",
        "Output: [1,3,12,0,0]\n",
        "Example 2:\n",
        "\n",
        "Input: nums = [0]\n",
        "Output: [0]\n",
        "\n",
        "\n",
        "Constraints:\n",
        "\n",
        "1 <= nums.length <= 104\n",
        "-231 <= nums[i] <= 231 - 1\n",
        "\n",
        "\n",
        "Follow up: Could you minimize the total number of operations done?"
      ],
      "metadata": {
        "id": "Yh9287nafmLv"
      }
    },
    {
      "cell_type": "code",
      "source": [
        "def moveZeros(nums: list[int]):\n",
        "    zero_index, non_zero_index = 0, 0\n",
        "    for i in range(len(nums)):\n",
        "        nums[zero_index] = nums[non_zero_index]\n",
        "        if nums[non_zero_index] != 0:\n",
        "            zero_index += 1\n",
        "        non_zero_index += 1\n",
        "    for i in range(zero_index, len(nums)):\n",
        "        nums[i] = 0\n",
        "    return nums"
      ],
      "metadata": {
        "id": "62qDcmksDZQb"
      },
      "execution_count": null,
      "outputs": []
    },
    {
      "cell_type": "code",
      "source": [],
      "metadata": {
        "id": "ZrVun_E1ENTG"
      },
      "execution_count": null,
      "outputs": []
    },
    {
      "cell_type": "code",
      "source": [
        "%%time\n",
        "nums =  [1,0,3,12,0,0,0,-2,4,0,0,19]\n",
        "print(moveZeros(nums))"
      ],
      "metadata": {
        "colab": {
          "base_uri": "https://localhost:8080/"
        },
        "id": "L_zPtZfGDuIH",
        "outputId": "a94374a7-8d80-40a1-fd88-cff73bf66b88"
      },
      "execution_count": null,
      "outputs": [
        {
          "output_type": "stream",
          "name": "stdout",
          "text": [
            "[1, 3, 12, -2, 4, 19, 0, 0, 0, 0, 0, 0]\n",
            "CPU times: user 1.7 ms, sys: 0 ns, total: 1.7 ms\n",
            "Wall time: 1.72 ms\n"
          ]
        }
      ]
    },
    {
      "cell_type": "code",
      "source": [
        "def moveZeros_2(nums: list[int]):\n",
        "    non_zero = [x for x in nums if x != 0]\n",
        "    nums = non_zero + [x for x in nums if x == 0]\n",
        "    return nums\n"
      ],
      "metadata": {
        "id": "fgy_uPFIKvgV"
      },
      "execution_count": null,
      "outputs": []
    },
    {
      "cell_type": "code",
      "source": [
        "%%time\n",
        "nums =  [1,0,3,12,0,0,0,-2,4,0,0,19]\n",
        "print(moveZeros_2(nums))"
      ],
      "metadata": {
        "colab": {
          "base_uri": "https://localhost:8080/"
        },
        "id": "4k33mb2SLtdA",
        "outputId": "74cb7336-d070-474d-83a6-32d2aae8b94c"
      },
      "execution_count": null,
      "outputs": [
        {
          "output_type": "stream",
          "name": "stdout",
          "text": [
            "[1, 3, 12, -2, 4, 19, 0, 0, 0, 0, 0, 0]\n",
            "CPU times: user 1.68 ms, sys: 0 ns, total: 1.68 ms\n",
            "Wall time: 1.63 ms\n"
          ]
        }
      ]
    },
    {
      "cell_type": "code",
      "source": [
        "def monveZeros_3(nums: list[int]) -> list[int]:\n",
        "    nums = list(filter(lambda x: x != 0, nums)) + list(filter(lambda x: x == 0, nums))\n",
        "    return nums\n"
      ],
      "metadata": {
        "id": "Ftf-_DbmL0Qm"
      },
      "execution_count": null,
      "outputs": []
    },
    {
      "cell_type": "code",
      "source": [
        "%%time\n",
        "nums =  [1,0,3,12,0,0,0,-2,4,0,0,19]\n",
        "print(moveZeros_3(nums))"
      ],
      "metadata": {
        "colab": {
          "base_uri": "https://localhost:8080/"
        },
        "id": "-0nO518ZMnMR",
        "outputId": "3f9decd9-5165-49e1-a6f5-068b9e8e7776"
      },
      "execution_count": null,
      "outputs": [
        {
          "output_type": "stream",
          "name": "stdout",
          "text": [
            "[1, 3, 12, -2, 4, 19, 0, 0, 0, 0, 0, 0]\n",
            "CPU times: user 1.06 ms, sys: 0 ns, total: 1.06 ms\n",
            "Wall time: 1.08 ms\n"
          ]
        }
      ]
    }
  ]
}
