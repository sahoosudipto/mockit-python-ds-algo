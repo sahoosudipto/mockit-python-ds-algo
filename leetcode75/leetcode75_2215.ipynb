{
  "nbformat": 4,
  "nbformat_minor": 0,
  "metadata": {
    "colab": {
      "provenance": [],
      "authorship_tag": "ABX9TyPVcbamvFQ3S28uQ4PKXD2b",
      "include_colab_link": true
    },
    "kernelspec": {
      "name": "python3",
      "display_name": "Python 3"
    },
    "language_info": {
      "name": "python"
    }
  },
  "cells": [
    {
      "cell_type": "markdown",
      "metadata": {
        "id": "view-in-github",
        "colab_type": "text"
      },
      "source": [
        "<a href=\"https://colab.research.google.com/github/sahoosudipto/mockit-python-ds-algo/blob/main/leetcode75/leetcode75_2215.ipynb\" target=\"_parent\"><img src=\"https://colab.research.google.com/assets/colab-badge.svg\" alt=\"Open In Colab\"/></a>"
      ]
    },
    {
      "cell_type": "markdown",
      "source": [
        "#Problem 2215 Leetcode75: Find the Difference of Two Arrays\n",
        "Easy\n",
        "Topics\n",
        "Companies\n",
        "Hint\n",
        "Given two 0-indexed integer arrays nums1 and nums2, return a list answer of size 2 where:\n",
        "\n",
        "answer[0] is a list of all distinct integers in nums1 which are not present in nums2.\n",
        "answer[1] is a list of all distinct integers in nums2 which are not present in nums1.\n",
        "Note that the integers in the lists may be returned in any order.\n",
        "\n",
        "\n",
        "\n",
        "Example 1:\n",
        "\n",
        "Input: nums1 = [1,2,3], nums2 = [2,4,6]\n",
        "Output: [[1,3],[4,6]]\n",
        "Explanation:\n",
        "For nums1, nums1[1] = 2 is present at index 0 of nums2, whereas nums1[0] = 1 and nums1[2] = 3 are not present in nums2. Therefore, answer[0] = [1,3].\n",
        "For nums2, nums2[0] = 2 is present at index 1 of nums1, whereas nums2[1] = 4 and nums2[2] = 6 are not present in nums2. Therefore, answer[1] = [4,6].\n",
        "Example 2:\n",
        "\n",
        "Input: nums1 = [1,2,3,3], nums2 = [1,1,2,2]\n",
        "Output: [[3],[]]\n",
        "Explanation:\n",
        "For nums1, nums1[2] and nums1[3] are not present in nums2. Since nums1[2] == nums1[3], their value is only included once and answer[0] = [3].\n",
        "Every integer in nums2 is present in nums1. Therefore, answer[1] = [].\n",
        "\n",
        "\n",
        "Constraints:\n",
        "\n",
        "1 <= nums1.length, nums2.length <= 1000\n",
        "-1000 <= nums1[i], nums2[i] <= 1000"
      ],
      "metadata": {
        "id": "FwMAAKw-sRza"
      }
    },
    {
      "cell_type": "code",
      "source": [
        "arr1 = [1,2,3]\n",
        "arr2 = [2,4, 6]"
      ],
      "metadata": {
        "id": "MkdfSvuas22T"
      },
      "execution_count": 21,
      "outputs": []
    },
    {
      "cell_type": "code",
      "source": [
        "def find_missing_numbers(nums1, nums2):\n",
        "    # Find distinct integers in nums1 not present in nums2\n",
        "    missing_nums1 = [num for num in nums1 if num not in nums2]\n",
        "    # Find distinct integers in nums2 not present in nums1\n",
        "    missing_nums2 = [num for num in nums2 if num not in nums1]\n",
        "    return [list(set(missing_nums1)), list(set(missing_nums2))]"
      ],
      "metadata": {
        "id": "PDw5LD4bsn5Y"
      },
      "execution_count": 12,
      "outputs": []
    },
    {
      "cell_type": "code",
      "source": [
        "def findDifference( nums1, nums2):\n",
        "    set1 = set(nums1)\n",
        "    set2 = set(nums2)\n",
        "\n",
        "    # Find elements in nums1 but not in nums2\n",
        "    nums_not_in_nums2 = list(set1 - set2)\n",
        "\n",
        "    # Find elements in nums2 but not in nums1 (difference)\n",
        "    nums_not_in_nums1 = list(set2 - set1)\n",
        "\n",
        "    return [nums_not_in_nums2, nums_not_in_nums1]"
      ],
      "metadata": {
        "id": "uQv76VgbuoxA"
      },
      "execution_count": 29,
      "outputs": []
    },
    {
      "cell_type": "code",
      "source": [
        "# find_missing_numbers(arr1, arr2)\n",
        "findDifference(arr1, arr2)"
      ],
      "metadata": {
        "colab": {
          "base_uri": "https://localhost:8080/"
        },
        "id": "v9-0KVM_uHra",
        "outputId": "e576ab19-8994-428d-eaa4-3ec4a14b6805"
      },
      "execution_count": 28,
      "outputs": [
        {
          "output_type": "execute_result",
          "data": {
            "text/plain": [
              "[[1, 3], [4, 6]]"
            ]
          },
          "metadata": {},
          "execution_count": 28
        }
      ]
    }
  ]
}