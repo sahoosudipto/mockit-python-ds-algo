{
  "nbformat": 4,
  "nbformat_minor": 0,
  "metadata": {
    "colab": {
      "provenance": [],
      "authorship_tag": "ABX9TyOCoCeLKoAafq+1iRTUfg2M",
      "include_colab_link": true
    },
    "kernelspec": {
      "name": "python3",
      "display_name": "Python 3"
    },
    "language_info": {
      "name": "python"
    }
  },
  "cells": [
    {
      "cell_type": "markdown",
      "metadata": {
        "id": "view-in-github",
        "colab_type": "text"
      },
      "source": [
        "<a href=\"https://colab.research.google.com/github/sahoosudipto/mockit-python-ds-algo/blob/main/leetcode75/leetcode75_1768.ipynb\" target=\"_parent\"><img src=\"https://colab.research.google.com/assets/colab-badge.svg\" alt=\"Open In Colab\"/></a>"
      ]
    },
    {
      "cell_type": "markdown",
      "source": [
        "#leetcode75- problem 1768: Merge Strings Alternately\n",
        "\n",
        "You are given two strings word1 and word2. Merge the strings by adding letters in alternating order, starting with word1. If a string is longer than the other, append the additional letters onto the end of the merged string.\n",
        "\n",
        "Return the merged string.\n",
        "\n",
        "\n",
        "\n",
        "Example 1:\n",
        "\n",
        "Input: word1 = \"abc\", word2 = \"pqr\"\n",
        "Output: \"apbqcr\"\n",
        "Explanation: The merged string will be merged as so:\n",
        "word1:  a   b   c\n",
        "word2:    p   q   r\n",
        "merged: a p b q c r\n",
        "Example 2:\n",
        "\n",
        "Input: word1 = \"ab\", word2 = \"pqrs\"\n",
        "Output: \"apbqrs\"\n",
        "Explanation: Notice that as word2 is longer, \"rs\" is appended to the end.\n",
        "word1:  a   b\n",
        "word2:    p   q   r   s\n",
        "merged: a p b q   r   s\n",
        "Example 3:\n",
        "\n",
        "Input: word1 = \"abcd\", word2 = \"pq\"\n",
        "Output: \"apbqcd\"\n",
        "Explanation: Notice that as word1 is longer, \"cd\" is appended to the end.\n",
        "word1:  a   b   c   d\n",
        "word2:    p   q\n",
        "merged: a p b q c   d\n",
        "\n",
        "Constraints:\n",
        "\n",
        "1 <= word1.length, word2.length <= 100\n",
        "word1 and word2 consist of lowercase English letters."
      ],
      "metadata": {
        "id": "ZZziPXyMQ8Pm"
      }
    },
    {
      "cell_type": "code",
      "source": [
        "def mergeAlternately( word1, word2):\n",
        "    res = [ch[0] + ch[1] for ch in  zip(list(word1), list(word2))]\n",
        "    if len(word1) > len(word2):\n",
        "        res += list(word1)[len(word2):]\n",
        "    else:\n",
        "        res += list(word2)[len(word1):]\n",
        "    print(''.join(res))"
      ],
      "metadata": {
        "id": "jSXxNJCGRmeq"
      },
      "execution_count": 19,
      "outputs": []
    },
    {
      "cell_type": "code",
      "source": [
        "%%time\n",
        "word1 = \"abcd\"\n",
        "word2 = \"pq\"\n",
        "print(mergeAlternately(word1, word2))"
      ],
      "metadata": {
        "colab": {
          "base_uri": "https://localhost:8080/"
        },
        "id": "Fp4-WMa-bZnJ",
        "outputId": "cf452b61-4c45-4680-e020-f195b6a7f1d6"
      },
      "execution_count": 20,
      "outputs": [
        {
          "output_type": "stream",
          "name": "stdout",
          "text": [
            "apbqcd\n",
            "None\n",
            "CPU times: user 1.48 ms, sys: 0 ns, total: 1.48 ms\n",
            "Wall time: 1.49 ms\n"
          ]
        }
      ]
    },
    {
      "cell_type": "code",
      "source": [
        "def mergeAlternately_2(word1: str, word2: str) -> str:\n",
        "    merge_str = ''\n",
        "    for i in range(min(len(word1), len(word2))):\n",
        "        merge_str += word1[i] + word2[i]\n",
        "    merge_str += word1[i+1:] if len(word1) > len(word2) else word2[i+1:]\n",
        "    return merge_str"
      ],
      "metadata": {
        "id": "mwcE93pJWC9K"
      },
      "execution_count": 17,
      "outputs": []
    },
    {
      "cell_type": "code",
      "source": [
        "%%time\n",
        "word1 = \"abcd\"\n",
        "word2 = \"pq\"\n",
        "print(word2[3:])\n",
        "# print(mergeAlternately_2(word1, word2))"
      ],
      "metadata": {
        "colab": {
          "base_uri": "https://localhost:8080/"
        },
        "id": "Y094v9Gtbn4Y",
        "outputId": "7233534e-fa54-42c7-e91b-eda9e6412c6f"
      },
      "execution_count": 23,
      "outputs": [
        {
          "output_type": "stream",
          "name": "stdout",
          "text": [
            "\n",
            "CPU times: user 1.92 ms, sys: 0 ns, total: 1.92 ms\n",
            "Wall time: 1.94 ms\n"
          ]
        }
      ]
    }
  ]
}