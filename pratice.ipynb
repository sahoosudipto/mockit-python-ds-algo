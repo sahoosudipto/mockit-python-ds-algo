{
  "nbformat": 4,
  "nbformat_minor": 0,
  "metadata": {
    "colab": {
      "provenance": [],
      "authorship_tag": "ABX9TyP+474beVl3AITeMrtUtiXm",
      "include_colab_link": true
    },
    "kernelspec": {
      "name": "python3",
      "display_name": "Python 3"
    },
    "language_info": {
      "name": "python"
    }
  },
  "cells": [
    {
      "cell_type": "markdown",
      "metadata": {
        "id": "view-in-github",
        "colab_type": "text"
      },
      "source": [
        "<a href=\"https://colab.research.google.com/github/sahoosudipto/mockit-python-ds-algo/blob/main/pratice.ipynb\" target=\"_parent\"><img src=\"https://colab.research.google.com/assets/colab-badge.svg\" alt=\"Open In Colab\"/></a>"
      ]
    },
    {
      "cell_type": "markdown",
      "source": [
        "# Odometer\n",
        "\n",
        "```\n",
        "1. Fixed number of digits\n",
        "2. Readings cannot have digit 0\n",
        "3. Digits of readings must be in ascending order\n",
        "4. Readings roll over in either direction\n",
        "```\n",
        "largest 4 digit reading 6789\n",
        "smallest 4 digit reading 1234\n",
        "after 6789 -> 1234\n",
        "#347 -> 348, 349, 356, 358, 359, 367\n",
        "#4689 <- 4679 <- 4678 <- 4589 <- 4579\n",
        "\n",
        "write a function for next_reading\n",
        "and  a fucntion for previous_reading\n",
        "\n",
        "how many readings/steps needed for 129 to 146\n",
        "129 -> 134, 135, 136, 137, 138, 139, 145, 146\n",
        "\n",
        "#next_reading(129), next_kth_reading(129, 7)\n",
        "#prev_reading(), prev_kth_reading(459, 56)\n",
        "#distance(a, b)\n",
        "\n"
      ],
      "metadata": {
        "id": "_KWY8wdweDHD"
      }
    },
    {
      "cell_type": "code",
      "source": [
        "def is_valid_reading(reading: int) -> bool:\n",
        "    return  all([a < b for a, b in zip(str(reading), str(reading)[1:])  ])"
      ],
      "metadata": {
        "id": "tuO7n3_Wg88s"
      },
      "execution_count": null,
      "outputs": []
    },
    {
      "cell_type": "code",
      "execution_count": null,
      "metadata": {
        "id": "LVQhRt26aVn_"
      },
      "outputs": [],
      "source": [
        "def last_digit(n: int) -> int:\n",
        "    return n % 10\n",
        "\n",
        "def is_ascending(n: int) -> bool:\n",
        "    if n < 10:\n",
        "        return True\n",
        "    # if n % 10 <= (n // 10) % 10:\n",
        "    if last_digit(n) <= last_digit(n // 10):\n",
        "        return False\n",
        "    return is_ascending(n // 10)"
      ]
    },
    {
      "cell_type": "code",
      "source": [
        "def size(n: int) -> int:\n",
        "    return len(str(n))\n",
        "\n",
        "def limits(n: int) -> tuple[int, int]:\n",
        "    DIGITS = \"123456789\"\n",
        "    k = size(n)\n",
        "    return int(DIGITS[ :k]), int(DIGITS[-k:])"
      ],
      "metadata": {
        "id": "Vab23u68id5G"
      },
      "execution_count": null,
      "outputs": []
    },
    {
      "cell_type": "code",
      "source": [
        "def next_reading(reading: int) -> int:\n",
        "    lo, hi = limits(reading)\n",
        "    if reading == hi:\n",
        "        return lo\n",
        "    reading +=1\n",
        "    # while not is_valid_reading(reading):\n",
        "    while not is_ascending(reading):\n",
        "        reading += 1\n",
        "    return reading\n"
      ],
      "metadata": {
        "id": "yfvenrdmeUD2"
      },
      "execution_count": null,
      "outputs": []
    },
    {
      "cell_type": "code",
      "source": [
        "def prev_reading(reading: int) -> int:\n",
        "    lo, hi = limits(reading)\n",
        "    if reading == lo:\n",
        "        return hi\n",
        "    reading -= 1\n",
        "    # while not is_valid_reading(reading):\n",
        "    while not is_ascending(reading):\n",
        "        reading -= 1\n",
        "    return reading\n"
      ],
      "metadata": {
        "id": "2SkYPNqOeiGl"
      },
      "execution_count": null,
      "outputs": []
    },
    {
      "cell_type": "code",
      "source": [
        "def next_kth_reading(reading: int, k: int) -> int:\n",
        "    for _ in range(k):\n",
        "        reading = next_reading(reading)\n",
        "    return reading\n"
      ],
      "metadata": {
        "id": "jfblv-NPeyiq"
      },
      "execution_count": null,
      "outputs": []
    },
    {
      "cell_type": "code",
      "source": [
        "def prev_kth_reading(reading: int, k: int) -> int:\n",
        "    for _ in range(k):\n",
        "        reading = prev_reading(reading)\n",
        "    return reading\n"
      ],
      "metadata": {
        "id": "LiTwdWWDfJQ4"
      },
      "execution_count": null,
      "outputs": []
    },
    {
      "cell_type": "code",
      "source": [
        "def distance(a_reading: int, b_reading: int) -> int:\n",
        "    if (size(a_reading) != size(b_reading)) or not is_valid_reading(b_reading):\n",
        "        return -1\n",
        "    distance = 0\n",
        "    while a_reading != b_reading:\n",
        "        distance += 1\n",
        "        a_reading = next_reading(a_reading)\n",
        "    return distance\n"
      ],
      "metadata": {
        "id": "-XCOmvbWfOZp"
      },
      "execution_count": null,
      "outputs": []
    },
    {
      "cell_type": "markdown",
      "source": [
        "#default prams"
      ],
      "metadata": {
        "id": "N6Ar0H-bppkO"
      }
    },
    {
      "cell_type": "code",
      "source": [
        "def forward(reading: int, step: int = 1) -> int:\n",
        "    lo, hi = limits(reading)\n",
        "    for _ in range(step):\n",
        "        if reading == hi:\n",
        "            reading = lo\n",
        "        else:\n",
        "            reading += 1\n",
        "            while not is_ascending(reading):\n",
        "                reading += 1\n",
        "    return reading"
      ],
      "metadata": {
        "id": "PSpg339ZpuYi"
      },
      "execution_count": null,
      "outputs": []
    },
    {
      "cell_type": "code",
      "source": [
        "def backward(reading: int, step: int) -> int:\n",
        "    lo, hi = limits(reading)\n",
        "    for _ in range(step):\n",
        "        if reading == lo:\n",
        "            reading = hi\n",
        "        else:\n",
        "            reading  -= 1\n",
        "            while not is_ascending(reading):\n",
        "                reading -= 1\n",
        "    return reading\n"
      ],
      "metadata": {
        "id": "9CroI2lIqdqI"
      },
      "execution_count": null,
      "outputs": []
    },
    {
      "cell_type": "code",
      "source": [
        "%%time\n",
        "forward(357879, 3000)\n",
        "# prev_kth_reading(357879, 30)"
      ],
      "metadata": {
        "colab": {
          "base_uri": "https://localhost:8080/"
        },
        "id": "n0WVzAphrx_h",
        "outputId": "9022c1c9-9d9c-4c9f-8ce2-d466d6261886"
      },
      "execution_count": null,
      "outputs": [
        {
          "output_type": "stream",
          "name": "stdout",
          "text": [
            "CPU times: user 8.28 s, sys: 31 µs, total: 8.28 s\n",
            "Wall time: 8.39 s\n"
          ]
        },
        {
          "output_type": "execute_result",
          "data": {
            "text/plain": [
              "234569"
            ]
          },
          "metadata": {},
          "execution_count": 49
        }
      ]
    },
    {
      "cell_type": "code",
      "source": [],
      "metadata": {
        "id": "WqJtnQUCtiua"
      },
      "execution_count": null,
      "outputs": []
    },
    {
      "cell_type": "markdown",
      "source": [
        "#***Objects***"
      ],
      "metadata": {
        "id": "pADO05Sntj73"
      }
    },
    {
      "cell_type": "code",
      "source": [
        "class Odometer:\n",
        "    def __init__(self, size: int):\n",
        "        self.size = size\n",
        "        self.LO = int(\"123456789\"[:size])\n",
        "        self.HI = int(\"123456789\"[-size:])\n",
        "        self.reading = self.LO\n",
        "\n",
        "    def __str__(self) -> str:\n",
        "        return  str(self.reading)\n",
        "\n",
        "    ##inspec information\n",
        "    def __repr__(self) -> str:\n",
        "        return f'{self.LO} << {self.reading} >> {self.HI}'\n"
      ],
      "metadata": {
        "id": "MOZza9-3uH4T"
      },
      "execution_count": null,
      "outputs": []
    },
    {
      "cell_type": "markdown",
      "source": [
        "***add odometer functionality in the class***\n",
        "\n",
        "define new class"
      ],
      "metadata": {
        "id": "hAILT5xM88sW"
      }
    },
    {
      "cell_type": "code",
      "source": [
        "def is_ascending(n: int) -> bool:\n",
        "    s = str(n)\n",
        "    return all([a < b for a, b in zip(s, s[1:])])\n",
        "class Odometer:\n",
        "    def __init__(self, size: int):\n",
        "        self.size = size\n",
        "        self.LO = int(\"123456789\"[:size])\n",
        "        self.HI = int(\"123456789\"[-size:])\n",
        "        self.reading = self.LO\n",
        "\n",
        "    def __str__(self) -> str:\n",
        "        return  str(self.reading)\n",
        "\n",
        "    ##inspec information\n",
        "    def __repr__(self) -> str:\n",
        "        return f'{self.LO} << {self.reading} >> {self.HI}'\n",
        "\n",
        "    @staticmethod\n",
        "    def is_ASC(n: int) -> bool:\n",
        "        s = str(n)\n",
        "        return all([a < b for a, b in zip(s, s[1:])])\n",
        "\n",
        "    def is_valid(self, n: int) -> bool:\n",
        "        s = str(n)\n",
        "        return all([a < b for a, b in zip(s, s[1:])])\n",
        "\n",
        "    def forward(self, step: int = 1):\n",
        "        for _ in range(step):\n",
        "            if self.reading == self.HI:\n",
        "                self.reading = self.LO\n",
        "            else:\n",
        "                self.reading += 1\n",
        "                # while not self.is_valid(self.reading):\n",
        "                while not is_ascending(self.reading):\n",
        "                    self.reading += 1\n",
        "\n",
        "    def backward(self, step: int = 1):\n",
        "        for _ in range(step):\n",
        "            if self.reading == self.LO:\n",
        "                self.reading = self.HI\n",
        "            else:\n",
        "                self.reading -= 1\n",
        "                # while not self.is_valid(self.reading):\n",
        "                while not self.is_ASC(self.reading):\n",
        "                    self.reading -= 1\n",
        "\n",
        "    def next_reading(self):\n",
        "        if self.reading == self.HI:\n",
        "            self.reading = self.LO\n",
        "        else:\n",
        "            self.reading += 1\n",
        "            while not self.is_valid(self.reading):\n",
        "                self.reading += 1\n",
        "\n",
        "    def prev_reading(self):\n",
        "        if self.reading == self.LO:\n",
        "            self.reading = self.HI\n",
        "        else:\n",
        "            self.reading -= 1\n",
        "            while not self.is_valid(self.reading):\n",
        "                self.reading -= 1\n",
        "    def distance(self, other: Odometer) -> int:\n",
        "        if self.size != other.size:\n",
        "            return -1\n",
        "        dist = 0\n",
        "        copy = Odometer(self.size)\n",
        "        copy.reading = self.reading\n",
        "        while copy.reading != other.reading:\n",
        "            dist += 1\n",
        "            copy.forward()\n",
        "        return dist\n",
        "\n"
      ],
      "metadata": {
        "id": "ZNcAfLAF9Chf"
      },
      "execution_count": null,
      "outputs": []
    },
    {
      "cell_type": "markdown",
      "source": [],
      "metadata": {
        "id": "pZuJ67SHDBrG"
      }
    },
    {
      "cell_type": "code",
      "source": [
        "p1 = Odometer(4)\n",
        "p1.forward(7)\n",
        "p2 = Odometer(4)\n",
        "p2.backward(3)\n",
        "p3 = Odometer(3)"
      ],
      "metadata": {
        "id": "I2lGiWYjusso"
      },
      "execution_count": null,
      "outputs": []
    },
    {
      "cell_type": "code",
      "source": [
        "p1.distance(p2)"
      ],
      "metadata": {
        "colab": {
          "base_uri": "https://localhost:8080/"
        },
        "id": "li2tV4oYDAN_",
        "outputId": "f6f4fc52-81ed-44d4-addb-5c53abf5aa37"
      },
      "execution_count": null,
      "outputs": [
        {
          "output_type": "execute_result",
          "data": {
            "text/plain": [
              "116"
            ]
          },
          "metadata": {},
          "execution_count": 129
        }
      ]
    },
    {
      "cell_type": "code",
      "source": [
        "from itertools import combinations as nCr\n",
        "two = nCr(\"123456789\", 2)\n",
        "print(list(two))"
      ],
      "metadata": {
        "colab": {
          "base_uri": "https://localhost:8080/"
        },
        "id": "_TbrRLESK3K3",
        "outputId": "05201f65-0f5d-4a83-9eef-8b5a6df110ed"
      },
      "execution_count": null,
      "outputs": [
        {
          "output_type": "stream",
          "name": "stdout",
          "text": [
            "[('1', '2'), ('1', '3'), ('1', '4'), ('1', '5'), ('1', '6'), ('1', '7'), ('1', '8'), ('1', '9'), ('2', '3'), ('2', '4'), ('2', '5'), ('2', '6'), ('2', '7'), ('2', '8'), ('2', '9'), ('3', '4'), ('3', '5'), ('3', '6'), ('3', '7'), ('3', '8'), ('3', '9'), ('4', '5'), ('4', '6'), ('4', '7'), ('4', '8'), ('4', '9'), ('5', '6'), ('5', '7'), ('5', '8'), ('5', '9'), ('6', '7'), ('6', '8'), ('6', '9'), ('7', '8'), ('7', '9'), ('8', '9')]\n"
          ]
        }
      ]
    },
    {
      "cell_type": "code",
      "source": [
        "three = [''.join(_) for _ in nCr(\"123456789\", 3)]\n",
        "print(three)"
      ],
      "metadata": {
        "colab": {
          "base_uri": "https://localhost:8080/"
        },
        "id": "aM8mSOJQl90v",
        "outputId": "8144ae22-3b7e-45d4-ace9-64b58eb9bd33"
      },
      "execution_count": null,
      "outputs": [
        {
          "output_type": "stream",
          "name": "stdout",
          "text": [
            "['123', '124', '125', '126', '127', '128', '129', '134', '135', '136', '137', '138', '139', '145', '146', '147', '148', '149', '156', '157', '158', '159', '167', '168', '169', '178', '179', '189', '234', '235', '236', '237', '238', '239', '245', '246', '247', '248', '249', '256', '257', '258', '259', '267', '268', '269', '278', '279', '289', '345', '346', '347', '348', '349', '356', '357', '358', '359', '367', '368', '369', '378', '379', '389', '456', '457', '458', '459', '467', '468', '469', '478', '479', '489', '567', '568', '569', '578', '579', '589', '678', '679', '689', '789']\n"
          ]
        }
      ]
    },
    {
      "cell_type": "code",
      "source": [
        "all_readings = {}\n",
        "for r in range(2, 9):\n",
        "    all_readings[r] = [''.join(_) for _ in nCr(\"123456789\", r)]"
      ],
      "metadata": {
        "id": "AZeTO9esmjds"
      },
      "execution_count": null,
      "outputs": []
    },
    {
      "cell_type": "code",
      "source": [
        "print(all_readings[8])"
      ],
      "metadata": {
        "colab": {
          "base_uri": "https://localhost:8080/"
        },
        "id": "3hyx2-Wkm4AX",
        "outputId": "28609670-e741-455b-c61c-3147c9f5d294"
      },
      "execution_count": null,
      "outputs": [
        {
          "output_type": "stream",
          "name": "stdout",
          "text": [
            "['12345678', '12345679', '12345689', '12345789', '12346789', '12356789', '12456789', '13456789', '23456789']\n"
          ]
        }
      ]
    },
    {
      "cell_type": "code",
      "source": [
        "from itertools import combinations as nCr\n",
        "\n",
        "class Odometer:\n",
        "    FIRST_TIME = True\n",
        "    all_readings = dict()\n",
        "\n",
        "    def __init__(self, size: int):\n",
        "        if Odometer.FIRST_TIME:\n",
        "            Odometer.FIRST_TIME = False\n",
        "            for r in range(2, 9):\n",
        "                Odometer.all_readings[r] = [''.join(_) for _ in nCr(\"123456789\", r)]\n",
        "        self.size = size\n",
        "        self.readings = Odometer.all_readings[size]\n",
        "        self.pos = 0\n",
        "        self.length = len(self.readings)\n",
        "\n",
        "    # def __add__(self, step: int):\n",
        "    #     self.pos += step\n",
        "    #     self.pos %= self.length\n",
        "\n",
        "    def __sub__(self, other: Odometer) -> int:\n",
        "        if self.size != other.size:\n",
        "            return -1\n",
        "        if self.pos <= other.pos:\n",
        "            return other.pos - self.pos\n",
        "        else:\n",
        "            return self.length - (self.pos - other.pos)\n",
        "\n",
        "    def __str__(self) -> str:\n",
        "        return self.readings[self.pos]\n",
        "\n",
        "    def __repr__(self) -> str:\n",
        "        return f'{self.pos} of {self.length}'\n",
        "\n",
        "    def forward(self, step: int = 1):\n",
        "        self.pos += step\n",
        "        self.pos %= self.length\n",
        "\n",
        "    def backward(self, step: int = 1):\n",
        "        self.pos -= step\n",
        "        self.pos %= self.length\n",
        "\n",
        "    def distance(self, other: Odometer) -> int:\n",
        "        if self.size != other.size:\n",
        "            return -1\n",
        "        if self.pos <= other.pos:\n",
        "            return other.pos - self.pos\n",
        "        else:\n",
        "            return self.length - self.pos + other.pos\n",
        "\n",
        "    '''emulate numeric objects:\n",
        "    example of operator overloading\n",
        "    alternate implementation of\n",
        "     distance in terms of substraction\n",
        "     obj1 - obj2 will return the distance\n",
        "     between obj1 and obj2'''\n",
        "    def __sub__(self, other: Odometer) -> int:\n",
        "        if self.size != other.size:\n",
        "            return -1\n",
        "        if self.pos <= other.pos:\n",
        "            return other.pos - self.pos\n",
        "        else:\n",
        "            return self.length - (self.pos - other.pos)\n",
        "\n",
        "\n"
      ],
      "metadata": {
        "id": "Q23nmBADnTXD"
      },
      "execution_count": null,
      "outputs": []
    },
    {
      "cell_type": "code",
      "source": [
        "# p1 = Odometer(3)\n",
        "# p2 = Odometer(3)\n",
        "# print(p1.readings)\n",
        "# p1.pos = p1.readings.index('127')\n",
        "# p2.pos = p2.readings.index('126')\n",
        "# print(p1.distance(p2))\n",
        "# print(len(p1.readings))\n"
      ],
      "metadata": {
        "id": "3mTNexu5t1z-"
      },
      "execution_count": 5,
      "outputs": []
    },
    {
      "cell_type": "markdown",
      "source": [
        "#interval class\n",
        "***interval***\n",
        "\n",
        "(1, 8) (4, 10) overlap (4, 10) merge (1, 10)\n",
        "\n",
        "(4, 17) (24, 56) are disjoint\n",
        "\n",
        "(3, 7) is inside (1, 9)\n",
        "\n",
        "extend_right, extend_left, shrink_right, shrink_left, move_right, move_left"
      ],
      "metadata": {
        "id": "y-7Wo5k02qqA"
      }
    },
    {
      "cell_type": "code",
      "source": [
        "class Interval:\n",
        "\n",
        "    def __init__(self, start: int, end: int):\n",
        "        self.start = start\n",
        "        self.end = end\n",
        "        if start > end:\n",
        "            self.start = end\n",
        "            self.end = start\n",
        "        else:\n",
        "            self.start = start\n",
        "            self.end = end\n",
        "\n",
        "    def __str__(self) -> str:\n",
        "        return f'({self.start}, {self.end})'\n",
        "\n",
        "    def __repr__(self):\n",
        "        return f'Interval start = {self.start}, interval end = {self.end}'\n",
        "\n",
        "    def is_overlap(self, other: Interval) -> bool:\n",
        "        return self.start <= other.end and other.start <= self.end\n",
        "\n",
        "    def is_disjoint(self, other: Interval) -> bool:\n",
        "        return self.end < other.start or other.end < self.start\n",
        "\n",
        "    def merge(self, other) -> Interval:\n",
        "        if not self.is_disjoint(other):\n",
        "            return Interval(min(self.start, other.start), max(self.end, other.end))\n",
        "\n",
        "    def is_inside(self, other: Interval) -> bool:\n",
        "        return other.start <= self.start and self.end <= other.end\n",
        "\n",
        "    def extend_right(self, length: int):\n",
        "        self.end += length\n",
        "\n",
        "    def extend_left(self, length: int):\n",
        "        self.start -= length\n",
        "\n",
        "    def shrink_left(self, length: int):\n",
        "        self.start += length\n",
        "\n",
        "    def shrink_right(self, length: int):\n",
        "        self.end -= length\n",
        "\n",
        "    def move_left(self, distance: int):\n",
        "        self.start -= distance\n",
        "        self.end -= distance\n",
        "\n",
        "    def move_right(self, distance: int):\n",
        "        self.start += distance\n",
        "        self.end += distance\n",
        "\n",
        "    def __add__(self, second: Interval) -> Interval:\n",
        "        if self.is_disjoint(second):\n",
        "            return -1\n",
        "        else:\n",
        "            return Interval(min(self.start, second.start)\n",
        "            ,max(self.end, second.end))\n",
        "\n",
        "    def __eq__(self, other: Interval) -> bool:\n",
        "        return self.start == other.start and self.end == other.end"
      ],
      "metadata": {
        "id": "HPVgtLtG3Ab0"
      },
      "execution_count": 48,
      "outputs": []
    },
    {
      "cell_type": "code",
      "source": [
        "i = Interval(30, 12)\n",
        "print(i)\n",
        "j = Interval(24, 38)\n",
        "print(i + j)\n",
        "print(j == i)\n"
      ],
      "metadata": {
        "colab": {
          "base_uri": "https://localhost:8080/"
        },
        "id": "awqZoW9iFVp1",
        "outputId": "826edb1d-716f-45dd-f38d-f1e53cc2305b"
      },
      "execution_count": 49,
      "outputs": [
        {
          "output_type": "stream",
          "name": "stdout",
          "text": [
            "(12, 30)\n",
            "(12, 38)\n",
            "False\n"
          ]
        }
      ]
    },
    {
      "cell_type": "code",
      "source": [
        "interval1 = Interval(1, 8)\n",
        "interval2 = Interval(4, 10)\n",
        "interval3 = Interval(4, 17)\n",
        "interval4 = Interval(24, 56)\n",
        "interval5 = Interval(3, 7)\n",
        "interval6 = Interval(1, 9)"
      ],
      "metadata": {
        "id": "mqLXRY9LHf68"
      },
      "execution_count": 44,
      "outputs": []
    },
    {
      "cell_type": "code",
      "source": [
        "print(f'{interval1} and {interval2} overlap: {interval1.is_overlap(interval2)}')\n",
        "print(f'Merged interval: {interval1.merge(interval2)}')\n",
        "\n",
        "print(f'{interval3} and {interval4} are disjoint: {interval3.is_disjoint(interval4)}')\n",
        "\n",
        "print(f'{interval5} is inside {interval6}: {interval5.is_inside(interval6)}')\n",
        "\n",
        "# Operations\n",
        "print(interval1)\n",
        "interval1.extend_right(2)\n",
        "print(f'Updated interval1: {interval1}')\n",
        "print(interval1)\n",
        "interval1.shrink_left(1)\n",
        "print(f'Updated interval1: {interval1}')\n",
        "print(interval2)\n",
        "interval2.move_right(3)\n",
        "print(f'Updated interval2: {interval2}')"
      ],
      "metadata": {
        "colab": {
          "base_uri": "https://localhost:8080/"
        },
        "id": "AX4YxapEHjTu",
        "outputId": "0f8b3966-a872-420d-ca7a-1f0e8f638967"
      },
      "execution_count": 47,
      "outputs": [
        {
          "output_type": "stream",
          "name": "stdout",
          "text": [
            "(3, 12) and (10, 16) overlap: True\n",
            "Merged interval: (3, 16)\n",
            "(4, 17) and (24, 56) are disjoint: True\n",
            "(3, 7) is inside (1, 9): True\n",
            "(3, 12)\n",
            "Updated interval1: (3, 14)\n",
            "(3, 14)\n",
            "Updated interval1: (4, 14)\n",
            "(10, 16)\n",
            "Updated interval2: (13, 19)\n"
          ]
        }
      ]
    },
    {
      "cell_type": "markdown",
      "source": [
        " create a **Dog class** that defines how Dog objects are created and what they can actually do"
      ],
      "metadata": {
        "id": "3K0azlppISbE"
      }
    },
    {
      "cell_type": "code",
      "source": [
        "class Dog:\n",
        "    def __init__(self, name: str, breed: str, age: float, vacinated: bool = False):\n",
        "        self.name = name\n",
        "        self.breed = breed\n",
        "        self.age = age\n",
        "        self.vacinated = vacinated\n",
        "        print(f'Dog {self.name} has been created')\n",
        "\n",
        "    def __str__(self):\n",
        "        return f'Object Dog({self.name}), age({self.age})'\n",
        "    def __repr__(self):\n",
        "        return f'This is a Dog object. Details Name = {self.name} , Age = {self.age}, Breed = {self.breed}, Vacinated = {self.vacinated}'\n",
        "\n",
        "    def bark(self):\n",
        "        return 'woof, woof!'\n",
        "\n",
        "    def greet(self):\n",
        "        print(f'Hi, this is {self.name}, I am a {self.breed}')\n",
        "\n",
        "    def rename(self, new_name: str):\n",
        "        self.name = new_name\n",
        ""
      ],
      "metadata": {
        "id": "g6YbJ49GIf8L"
      },
      "execution_count": 10,
      "outputs": []
    },
    {
      "cell_type": "code",
      "source": [
        "d = Dog('Maxx', 'Shih Tuz', 3)\n",
        "print(d)\n",
        "d.greet()\n",
        "print(d.vacinated)\n",
        "\n",
        "d1 = Dog(name='Fido', breed='Labrador', vacinated = True, age = 2.4)"
      ],
      "metadata": {
        "id": "vgLOHHLEKJDg"
      },
      "execution_count": null,
      "outputs": []
    },
    {
      "cell_type": "code",
      "source": [
        "from typing import Dict, List, Tuple\n",
        "\n",
        "Apartment = Tuple[int, int]  # (apt_number, num_rooms)\n",
        "Person = Tuple[str, bool]  # (name, wants_housemates)\n",
        "\n",
        "def AssignApartmentsToPeople(apartments: List[Apartment], people: List[Person]) -> Dict[int, List[str]]:\n",
        "    \"\"\"Assigns apartments to people based on their preferences and apartment availability.\n",
        "\n",
        "    Args:\n",
        "        apartments: A list of Apartment tuples (apt_number, num_rooms).\n",
        "        people: A list of Person tuples (name, wants_housemates).\n",
        "\n",
        "    Returns:\n",
        "        A dictionary mapping apartment numbers to a list of people assigned to that apartment.\n",
        "    \"\"\"\n",
        "\n",
        "    apartment_number_and_tenants: Dict[int, List[str]] = {}\n",
        "\n",
        "    # Sort apartments by number of rooms (ascending)\n",
        "    apartments.sort(key=lambda apt: apt[1], reverse = True)\n",
        "\n",
        "    # Prioritize people who want housemates\n",
        "    people_wanting_housemates = [p for p in people if p[1]]\n",
        "    people_wanting_single = [p for p in people if not p[1]]\n",
        "\n",
        "    for person in people_wanting_housemates:\n",
        "        assigned = False\n",
        "        for apt_num, num_rooms in apartments:\n",
        "            if num_rooms >= 1:  # Person can fit in any apartment\n",
        "                apartment_number_and_tenants.setdefault(apt_num, []).append(person[0])\n",
        "                apartments.remove((apt_num, num_rooms))  # Apt might be fully occupied now\n",
        "                if num_rooms > 1:  # Decrement only if apartment has more rooms\n",
        "                    apartments.append((apt_num, num_rooms - 1))\n",
        "                assigned = True\n",
        "                print(apartments, person[0])\n",
        "                break\n",
        "        if not assigned:\n",
        "            print(f\"Warning: Could not assign an apartment to {person[0]}\")\n",
        "\n",
        "    apartments.sort(key=lambda apt: apt[1], reverse = False)\n",
        "    for person in people_wanting_single:\n",
        "        assigned = False\n",
        "        for apt_num, num_rooms in apartments:\n",
        "            if num_rooms >= 1:  # Person can fit in any apartment\n",
        "                apartment_number_and_tenants.setdefault(apt_num, []).append(person[0])\n",
        "                apartments.remove((apt_num, num_rooms))  # Apt might be fully occupied now\n",
        "                if num_rooms > 1:  # Decrement only if apartment has more rooms\n",
        "                    apartments.append((apt_num, num_rooms - 1))\n",
        "                assigned = True\n",
        "                print(apartments, person[0])\n",
        "                break\n",
        "        if not assigned:\n",
        "            print(f\"Warning: Could not assign an apartment to {person[0]}\")\n",
        "\n",
        "    return apartment_number_and_tenants"
      ],
      "metadata": {
        "id": "6tlceErvy1bS"
      },
      "execution_count": 16,
      "outputs": []
    },
    {
      "cell_type": "code",
      "source": [
        "apartments = [(1001, 2), (1002, 1), (1004, 4), (1010, 1), (2002, 3), (2005, 1)]\n",
        "persons =[('Tom', True), ('Gery', False), ('Alex', True), ('Del', True), ('Trt', False)]\n",
        "alocation_list = AssignApartmentsToPeople(apartments, persons)\n",
        "print(alocation_list)"
      ],
      "metadata": {
        "colab": {
          "base_uri": "https://localhost:8080/"
        },
        "id": "D0nm3N7x1gZX",
        "outputId": "f49faaf6-1db1-43cf-9037-94c4a7ac8b07"
      },
      "execution_count": 17,
      "outputs": [
        {
          "output_type": "stream",
          "name": "stdout",
          "text": [
            "[(2002, 3), (1001, 2), (1002, 1), (1010, 1), (2005, 1), (1004, 3)] Tom\n",
            "[(1001, 2), (1002, 1), (1010, 1), (2005, 1), (1004, 3), (2002, 2)] Alex\n",
            "[(1002, 1), (1010, 1), (2005, 1), (1004, 3), (2002, 2), (1001, 1)] Del\n",
            "[(1010, 1), (2005, 1), (1001, 1), (2002, 2), (1004, 3)] Gery\n",
            "[(2005, 1), (1001, 1), (2002, 2), (1004, 3)] Trt\n",
            "{1004: ['Tom'], 2002: ['Alex'], 1001: ['Del'], 1002: ['Gery'], 1010: ['Trt']}\n"
          ]
        }
      ]
    },
    {
      "cell_type": "markdown",
      "source": [],
      "metadata": {
        "id": "2F34dapqgdl2"
      }
    }
  ]
}